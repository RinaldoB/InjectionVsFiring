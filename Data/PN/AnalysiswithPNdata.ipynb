{
 "cells": [
  {
   "cell_type": "code",
   "execution_count": 2,
   "metadata": {
    "collapsed": false
   },
   "outputs": [
    {
     "name": "stdout",
     "output_type": "stream",
     "text": [
      "Populating the interactive namespace from numpy and matplotlib\n"
     ]
    },
    {
     "name": "stderr",
     "output_type": "stream",
     "text": [
      "//anaconda/lib/python2.7/site-packages/matplotlib/font_manager.py:273: UserWarning: Matplotlib is building the font cache using fc-list. This may take a moment.\n",
      "  warnings.warn('Matplotlib is building the font cache using fc-list. This may take a moment.')\n"
     ]
    }
   ],
   "source": [
    "%pylab inline\n",
    "from __future__ import division\n",
    "import matplotlib.pyplot as plt\n",
    "import numpy as np\n",
    "import peakutils\n",
    "import seaborn as sns\n",
    "import os\n",
    "import cPickle as pickle\n",
    "dt = 1/20000 #20kHz sampling rate\n"
   ]
  },
  {
   "cell_type": "markdown",
   "metadata": {},
   "source": [
    "#### collecting data into useable format"
   ]
  },
  {
   "cell_type": "code",
   "execution_count": 5,
   "metadata": {
    "collapsed": false
   },
   "outputs": [],
   "source": [
    "files = ['1.txt','2.txt','3.txt','4.txt','5.txt']\n",
    "\n",
    "data = [np.loadtxt(file, skiprows=1, dtype='float32') for file in files]\n",
    "\n",
    "[d.shape for d in data]\n",
    "\n",
    "data_transposed = [d.T for d in data]\n",
    "\n",
    "pickle.dump(data_transposed,open('PNdata.pkl','wb'),protocol=-1)\n",
    "\n",
    "\n",
    "\n",
    "pulses = [loadtxt(file, dtype='str') for file in files]\n",
    "\n",
    "pulse_labels = []\n",
    "for i in range(5):\n",
    "    pulse_labels.append(pulses[i][0])\n",
    "\n",
    "\n",
    "pickle.dump(pulse_labels,open('pulselabelsPN.pkl','wb'),protocol=-1)\n",
    "\n"
   ]
  },
  {
   "cell_type": "code",
   "execution_count": null,
   "metadata": {
    "collapsed": true
   },
   "outputs": [],
   "source": []
  }
 ],
 "metadata": {
  "kernelspec": {
   "display_name": "Python 2",
   "language": "python",
   "name": "python2"
  },
  "language_info": {
   "codemirror_mode": {
    "name": "ipython",
    "version": 2
   },
   "file_extension": ".py",
   "mimetype": "text/x-python",
   "name": "python",
   "nbconvert_exporter": "python",
   "pygments_lexer": "ipython2",
   "version": "2.7.11"
  }
 },
 "nbformat": 4,
 "nbformat_minor": 0
}
