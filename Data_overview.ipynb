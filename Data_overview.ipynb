{
 "cells": [
  {
   "cell_type": "code",
   "execution_count": 1,
   "metadata": {
    "collapsed": false
   },
   "outputs": [
    {
     "name": "stdout",
     "output_type": "stream",
     "text": [
      "Populating the interactive namespace from numpy and matplotlib\n"
     ]
    }
   ],
   "source": [
    "%pylab inline"
   ]
  },
  {
   "cell_type": "code",
   "execution_count": 41,
   "metadata": {
    "collapsed": true
   },
   "outputs": [],
   "source": [
    "import cPickle as pickle\n",
    "import gzip"
   ]
  },
  {
   "cell_type": "code",
   "execution_count": 19,
   "metadata": {
    "collapsed": false
   },
   "outputs": [
    {
     "name": "stdout",
     "output_type": "stream",
     "text": [
      "\u001b[0m\u001b[01;34mAllDatesLN\u001b[0m/  AnalysiswithLNdata.ipynb  dates.pkl  LNdata.pkl  pulselabelsLN.pkl\r\n"
     ]
    }
   ],
   "source": [
    "ls Data/LN"
   ]
  },
  {
   "cell_type": "code",
   "execution_count": 25,
   "metadata": {
    "collapsed": false
   },
   "outputs": [
    {
     "name": "stdout",
     "output_type": "stream",
     "text": [
      "\u001b[0m\u001b[01;34mAllDatesPN\u001b[0m/  AnalysiswithPNdata.ipynb  PNdata.pkl  pulselabelsPN.pkl\r\n"
     ]
    }
   ],
   "source": [
    "ls Data/PN"
   ]
  },
  {
   "cell_type": "markdown",
   "metadata": {},
   "source": [
    "# Checking the pickle files"
   ]
  },
  {
   "cell_type": "markdown",
   "metadata": {},
   "source": [
    "Data/LN/pulselabelsLN.pkl"
   ]
  },
  {
   "cell_type": "code",
   "execution_count": 37,
   "metadata": {
    "collapsed": false
   },
   "outputs": [
    {
     "data": {
      "text/plain": [
       "[(11,), (15,), (18,), (20,), (8,), (12,), (9,), (10,)]"
      ]
     },
     "execution_count": 37,
     "metadata": {},
     "output_type": "execute_result"
    }
   ],
   "source": [
    "[labels.shape for labels in pickle.load(open('Data/LN/pulselabelsLN.pkl', 'rb'))]"
   ]
  },
  {
   "cell_type": "markdown",
   "metadata": {},
   "source": [
    "Data/PN/pulselabelsPN.pkl"
   ]
  },
  {
   "cell_type": "code",
   "execution_count": 35,
   "metadata": {
    "collapsed": false
   },
   "outputs": [
    {
     "data": {
      "text/plain": [
       "[array([\"'PMPulse_1_7_1_1_Vmon-2'\", \"'PMPulse_1_7_2_1_Vmon-2'\",\n",
       "        \"'PMPulse_1_7_3_1_Vmon-2'\", \"'PMPulse_1_7_4_1_Vmon-2'\",\n",
       "        \"'PMPulse_1_7_5_1_Vmon-2'\", \"'PMPulse_1_7_6_1_Vmon-2'\",\n",
       "        \"'PMPulse_1_7_7_1_Vmon-2'\", \"'PMPulse_1_7_8_1_Vmon-2'\"], \n",
       "       dtype='|S24'),\n",
       " array([\"'PMPulse_2_10_1_1_Vmon-2'\", \"'PMPulse_2_10_2_1_Vmon-2'\",\n",
       "        \"'PMPulse_2_10_3_1_Vmon-2'\", \"'PMPulse_2_10_4_1_Vmon-2'\",\n",
       "        \"'PMPulse_2_10_5_1_Vmon-2'\"], \n",
       "       dtype='|S25'),\n",
       " array([\"'PMPulse_3_16_1_1_Vmon-2'\", \"'PMPulse_3_16_2_1_Vmon-2'\",\n",
       "        \"'PMPulse_3_16_3_1_Vmon-2'\", \"'PMPulse_3_16_4_1_Vmon-2'\",\n",
       "        \"'PMPulse_3_16_5_1_Vmon-2'\", \"'PMPulse_3_16_6_1_Vmon-2'\",\n",
       "        \"'PMPulse_3_16_7_1_Vmon-2'\"], \n",
       "       dtype='|S25'),\n",
       " array([\"'PMPulse_3_11_1_1_Vmon-2'\", \"'PMPulse_3_11_2_1_Vmon-2'\",\n",
       "        \"'PMPulse_3_11_3_1_Vmon-2'\", \"'PMPulse_3_11_4_1_Vmon-2'\",\n",
       "        \"'PMPulse_3_11_5_1_Vmon-2'\", \"'PMPulse_3_11_6_1_Vmon-2'\",\n",
       "        \"'PMPulse_3_11_7_1_Vmon-2'\", \"'PMPulse_3_11_8_1_Vmon-2'\"], \n",
       "       dtype='|S25'),\n",
       " array([\"'PMPulse_3_8_1_1_Vmon-2'\", \"'PMPulse_3_8_2_1_Vmon-2'\",\n",
       "        \"'PMPulse_3_8_3_1_Vmon-2'\", \"'PMPulse_3_8_4_1_Vmon-2'\",\n",
       "        \"'PMPulse_3_8_5_1_Vmon-2'\"], \n",
       "       dtype='|S24')]"
      ]
     },
     "execution_count": 35,
     "metadata": {},
     "output_type": "execute_result"
    }
   ],
   "source": [
    "pickle.load(open('Data/PN/pulselabelsPN.pkl', 'rb'))"
   ]
  },
  {
   "cell_type": "markdown",
   "metadata": {},
   "source": [
    "Data/LN/LNdata.pkl"
   ]
  },
  {
   "cell_type": "code",
   "execution_count": 28,
   "metadata": {
    "collapsed": false
   },
   "outputs": [
    {
     "data": {
      "text/plain": [
       "[(11, 160000),\n",
       " (15, 160000),\n",
       " (18, 160000),\n",
       " (20, 160000),\n",
       " (8, 160000),\n",
       " (12, 160000),\n",
       " (9, 160000),\n",
       " (10, 160000)]"
      ]
     },
     "execution_count": 28,
     "metadata": {},
     "output_type": "execute_result"
    }
   ],
   "source": [
    "[dat.shape for dat in pickle.load(open('Data/LN/LNdata.pkl', 'rb'))]"
   ]
  },
  {
   "cell_type": "code",
   "execution_count": 16,
   "metadata": {
    "collapsed": false
   },
   "outputs": [
    {
     "data": {
      "text/plain": [
       "[(8, 220000), (5, 220000), (7, 220000), (8, 220000), (5, 220000)]"
      ]
     },
     "execution_count": 16,
     "metadata": {},
     "output_type": "execute_result"
    }
   ],
   "source": [
    "[dat.shape for dat in pickle.load(open('Data/PN/PNdata.pkl', 'rb'))]"
   ]
  },
  {
   "cell_type": "markdown",
   "metadata": {},
   "source": [
    "# Data Description"
   ]
  },
  {
   "cell_type": "markdown",
   "metadata": {},
   "source": [
    "## PNs\n",
    "\n",
    "- Starting pulse +10 pA from holding current with increasing current injections of +10 pA\n",
    "- Sampling frequency 20 kHz\n",
    "- Bassel low pass filter 2.9"
   ]
  },
  {
   "cell_type": "code",
   "execution_count": 49,
   "metadata": {
    "collapsed": true
   },
   "outputs": [],
   "source": [
    "# The PN data was recorded on the following days\n",
    "PNDates = ('03_21','03_22','03_23','03_24','03_29','03_31','04_27','05_02')"
   ]
  },
  {
   "cell_type": "markdown",
   "metadata": {},
   "source": [
    "## LNs\n",
    "\n",
    "- current injections in 50 pA steps\n",
    "- Sampling frequency 20 kHz\n",
    "- Bassel low pass filter 2.9"
   ]
  },
  {
   "cell_type": "markdown",
   "metadata": {},
   "source": [
    "# ToDo"
   ]
  },
  {
   "cell_type": "markdown",
   "metadata": {},
   "source": [
    "- save the LN/PN data to a compressed pickle file [if this is successful the original pkl file can be deleted from the repo]"
   ]
  },
  {
   "cell_type": "code",
   "execution_count": null,
   "metadata": {
    "collapsed": false
   },
   "outputs": [],
   "source": [
    "pickle.dump(PNData, gzip.open('PNData.pklz'), protocol=-1)\n",
    "\n",
    "# To read a zipped pickle\n",
    "#PNData = pickle.load(gzip.open('PNData.pklz'))"
   ]
  },
  {
   "cell_type": "markdown",
   "metadata": {},
   "source": [
    "###  Directory Structure"
   ]
  },
  {
   "cell_type": "markdown",
   "metadata": {},
   "source": [
    "- delete the directory \"Export Depol\" [we don't need to keep this in the repository]\n",
    "- an overview over the data (both PN and LN) goes into this file [Data_overview.ipynb]\n",
    "- move the pickle files into the Data directory:\n",
    "    - `PNData.pklz`, `PNLabels.pkl`\n",
    "    - `LNData.pklz`, `LNLabels.pkl`, `LNDates.pkl`\n",
    "- delete the `AllDatesPN`, `AllDatesLN` directories from the repo [we don't need to keep this in the repository]\n",
    "- `Data/LN/dates.pkl` is not needed anymore (instead I put it into the notebook), you can also delete it"
   ]
  }
 ],
 "metadata": {
  "kernelspec": {
   "display_name": "Python 2",
   "language": "python",
   "name": "python2"
  },
  "language_info": {
   "codemirror_mode": {
    "name": "ipython",
    "version": 2
   },
   "file_extension": ".py",
   "mimetype": "text/x-python",
   "name": "python",
   "nbconvert_exporter": "python",
   "pygments_lexer": "ipython2",
   "version": "2.7.11"
  }
 },
 "nbformat": 4,
 "nbformat_minor": 0
}
