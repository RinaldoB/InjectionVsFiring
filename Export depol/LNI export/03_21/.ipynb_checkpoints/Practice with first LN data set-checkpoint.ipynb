{
 "cells": [
  {
   "cell_type": "code",
   "execution_count": 29,
   "metadata": {
    "collapsed": false
   },
   "outputs": [],
   "source": [
    "%matplotlib inline\n",
    "import matplotlib.pyplot as plt\n",
    "import numpy as np\n",
    "import peakutils\n",
    "import xlrd\n",
    "import seaborn as sns\n",
    "dt = 1/20000 #20kHz sampling rate\n",
    "\n",
    "#I find it easier to work with xcel sheets (generally smaller filesizes too!)\n",
    "\n",
    "book = xlrd.open_workbook('/Users/Sri/Desktop/InjectionVsFiring/Export depol/LNI export/03_21/PMPulse_2_8_1_1-Vmon-1++.xls')\n",
    "sheet = book.sheet_by_index(0)\n",
    "rowstart = 0\n",
    "voltcol = [0,1,2,3,4,5,6,7,8,9,10]\n",
    "\n"
   ]
  },
  {
   "cell_type": "markdown",
   "metadata": {},
   "source": [
    "### collecting data"
   ]
  },
  {
   "cell_type": "code",
   "execution_count": 66,
   "metadata": {
    "collapsed": false
   },
   "outputs": [
    {
     "name": "stdout",
     "output_type": "stream",
     "text": [
      "-0.069656253\n"
     ]
    }
   ],
   "source": [
    "signals = [[] for x in xrange(11)]\n",
    "\n",
    "for i in range(65536):\n",
    "    for j in range(11):\n",
    "        \n",
    "        signals[j].append(sheet.cell_value(i,j))\n",
    "#for some reason its row then column?\n",
    "    "
   ]
  },
  {
   "cell_type": "markdown",
   "metadata": {},
   "source": [
    "### plotting\n"
   ]
  },
  {
   "cell_type": "code",
   "execution_count": 81,
   "metadata": {
    "collapsed": false
   },
   "outputs": [
    {
     "data": {
      "text/plain": [
       "[<matplotlib.lines.Line2D at 0x119899b90>]"
      ]
     },
     "execution_count": 81,
     "metadata": {},
     "output_type": "execute_result"
    },
    {
     "data": {
      "image/png": "[encoded data removed]",
      "text/plain": [
       "<matplotlib.figure.Figure at 0x1255d9a10>"
      ]
     },
     "metadata": {},
     "output_type": "display_data"
    }
   ],
   "source": [
    "fig = plt.figure()\n",
    "ax = fig.add_axes([0.1,0.1,0.8,0.8])\n",
    "\n",
    "'''\n",
    "for i in range(11):    \n",
    "    ax.plot(signals[i])\n",
    "plt.show()\n",
    "'''\n",
    "\n",
    "ax.plot(signals[0])"
   ]
  },
  {
   "cell_type": "code",
   "execution_count": null,
   "metadata": {
    "collapsed": true
   },
   "outputs": [],
   "source": []
  }
 ],
 "metadata": {
  "kernelspec": {
   "display_name": "Python 2",
   "language": "python",
   "name": "python2"
  },
  "language_info": {
   "codemirror_mode": {
    "name": "ipython",
    "version": 2
   },
   "file_extension": ".py",
   "mimetype": "text/x-python",
   "name": "python",
   "nbconvert_exporter": "python",
   "pygments_lexer": "ipython2",
   "version": "2.7.11"
  }
 },
 "nbformat": 4,
 "nbformat_minor": 0
}
